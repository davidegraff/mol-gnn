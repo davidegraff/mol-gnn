{
 "cells": [
  {
   "cell_type": "code",
   "execution_count": 2,
   "metadata": {},
   "outputs": [],
   "source": [
    "from dataclasses import astuple\n",
    "import random\n",
    "\n",
    "from rdkit import Chem\n",
    "import torch\n",
    "from torch import Tensor, nn\n",
    "\n",
    "from mol_gnn.featurizers import BaseMoleculeMolGraphFeaturizer\n",
    "from mol_gnn.data import BatchMolGraph"
   ]
  },
  {
   "cell_type": "code",
   "execution_count": 3,
   "metadata": {},
   "outputs": [],
   "source": [
    "smis = [\"c1ccccc1\", \"CCCC\"]\n",
    "mgf = BaseMoleculeMolGraphFeaturizer()\n",
    "\n",
    "mols = [Chem.MolFromSmiles(smi) for smi in smis]\n",
    "mgs = [mgf(mol) for mol in mols]\n",
    "\n",
    "bmg = BatchMolGraph(mgs)\n",
    "V, E, edge_index, rev_index, batch = astuple(bmg)"
   ]
  },
  {
   "cell_type": "code",
   "execution_count": 4,
   "metadata": {},
   "outputs": [],
   "source": [
    "W = nn.Linear(sum(mgf.shape), 100)\n",
    "W_v, W_e = [nn.Linear(d, 100) for d in mgf.shape]"
   ]
  },
  {
   "cell_type": "code",
   "execution_count": 30,
   "metadata": {},
   "outputs": [],
   "source": [
    "from torch_scatter import scatter, scatter_softmax, scatter_sum"
   ]
  },
  {
   "cell_type": "code",
   "execution_count": 37,
   "metadata": {},
   "outputs": [
    {
     "data": {
      "text/plain": [
       "tensor([[ 0.,  1.,  2.,  3.],\n",
       "        [ 4.,  5.,  6.,  7.],\n",
       "        [ 8.,  9., 10., 11.],\n",
       "        [12., 13., 14., 15.],\n",
       "        [16., 17., 18., 19.],\n",
       "        [20., 21., 22., 23.],\n",
       "        [24., 25., 26., 27.],\n",
       "        [28., 29., 30., 31.]])"
      ]
     },
     "execution_count": 37,
     "metadata": {},
     "output_type": "execute_result"
    }
   ],
   "source": [
    "src =  torch.tensor([0, 1, 0, 2, 0, 3, 1, 2])\n",
    "dest = torch.tensor([1, 0, 2, 0, 3, 0, 2, 1])\n",
    "edge_index = torch.stack([src, dest])\n",
    "rev_index = torch.tensor([1, 0, 3, 2, 5, 4, 7, 6])\n",
    "\n",
    "X = torch.arange(len(dest) * 4).view(-1, 4).float()\n",
    "w = torch.ones(len(dest))\n",
    "X"
   ]
  },
  {
   "cell_type": "code",
   "execution_count": 41,
   "metadata": {},
   "outputs": [
    {
     "data": {
      "text/plain": [
       "tensor([[ 4.,  5.,  6.,  7.],\n",
       "        [ 0.,  1.,  2.,  3.],\n",
       "        [12., 13., 14., 15.],\n",
       "        [ 8.,  9., 10., 11.],\n",
       "        [20., 21., 22., 23.],\n",
       "        [16., 17., 18., 19.],\n",
       "        [28., 29., 30., 31.],\n",
       "        [24., 25., 26., 27.]])"
      ]
     },
     "execution_count": 41,
     "metadata": {},
     "output_type": "execute_result"
    }
   ],
   "source": [
    "X[rev_index]"
   ]
  },
  {
   "cell_type": "code",
   "execution_count": 55,
   "metadata": {},
   "outputs": [],
   "source": [
    "class LinearFacade(nn.Module):\n",
    "    def __init__(self, input_dim, output_dim) -> None:\n",
    "        super().__init__()\n",
    "\n",
    "        self.output_dim = output_dim\n",
    "    \n",
    "    def forward(self, X: Tensor) -> Tensor:\n",
    "        return torch.zeros(*X.shape[:-1], self.output_dim, device=X.device) "
   ]
  },
  {
   "cell_type": "code",
   "execution_count": 65,
   "metadata": {},
   "outputs": [
    {
     "name": "stdout",
     "output_type": "stream",
     "text": [
      "7.4 µs ± 46 ns per loop (mean ± std. dev. of 7 runs, 100,000 loops each)\n",
      "1.71 µs ± 7.77 ns per loop (mean ± std. dev. of 7 runs, 1,000,000 loops each)\n"
     ]
    }
   ],
   "source": [
    "%timeit nn.Dropout(1)(X)\n",
    "L = LinearFacade(4, 4)\n",
    "%timeit L(X)"
   ]
  },
  {
   "cell_type": "code",
   "execution_count": 29,
   "metadata": {},
   "outputs": [
    {
     "data": {
      "text/plain": [
       "tensor([[72., 78., 84., 90.],\n",
       "        [56., 60., 64., 68.],\n",
       "        [64., 68., 72., 76.],\n",
       "        [32., 34., 36., 38.]])"
      ]
     },
     "execution_count": 29,
     "metadata": {},
     "output_type": "execute_result"
    }
   ],
   "source": [
    "scatter_sum(X @ W_b, dest, 0)"
   ]
  },
  {
   "cell_type": "code",
   "execution_count": 79,
   "metadata": {},
   "outputs": [
    {
     "ename": "IndexError",
     "evalue": "index 0 is out of bounds for dimension 0 with size 0",
     "output_type": "error",
     "traceback": [
      "\u001b[0;31m---------------------------------------------------------------------------\u001b[0m",
      "\u001b[0;31mIndexError\u001b[0m                                Traceback (most recent call last)",
      "\u001b[1;32m/Users/davidgraff/projects/mol-gnn/scratch.ipynb Cell 10\u001b[0m line \u001b[0;36m1\n\u001b[0;32m----> <a href='vscode-notebook-cell:/Users/davidgraff/projects/mol-gnn/scratch.ipynb#X50sZmlsZQ%3D%3D?line=0'>1</a>\u001b[0m nn\u001b[39m.\u001b[39mLinear(\u001b[39m4\u001b[39m, \u001b[39m4\u001b[39m)(X)[[]][\u001b[39m0\u001b[39m]\u001b[39m.\u001b[39mshape\n",
      "\u001b[0;31mIndexError\u001b[0m: index 0 is out of bounds for dimension 0 with size 0"
     ]
    }
   ],
   "source": []
  },
  {
   "cell_type": "code",
   "execution_count": 32,
   "metadata": {},
   "outputs": [
    {
     "data": {
      "text/plain": [
       "tensor([[ 0.,  1.,  2.,  3.],\n",
       "        [ 4.,  5.,  6.,  7.],\n",
       "        [ 8.,  9., 10., 11.],\n",
       "        [12., 13., 14., 15.]])"
      ]
     },
     "execution_count": 32,
     "metadata": {},
     "output_type": "execute_result"
    }
   ],
   "source": [
    "src =  torch.tensor([0, 1, 0, 2, 0, 3, 1, 2])\n",
    "dest = torch.tensor([1, 0, 2, 0, 3, 0, 2, 1])\n",
    "edge_index = torch.stack([src, dest])\n",
    "rev_index = torch.tensor([1, 0, 3, 2, 5, 4, 7, 6])\n",
    "\n",
    "X = torch.arange(len(dest) // 2 * 4).view(-1, 4).float()\n",
    "w = torch.ones(len(dest))\n",
    "X"
   ]
  },
  {
   "cell_type": "code",
   "execution_count": 36,
   "metadata": {},
   "outputs": [
    {
     "data": {
      "text/plain": [
       "(tensor([[ 0.,  1.,  2.,  3.],\n",
       "         [ 4.,  5.,  6.,  7.],\n",
       "         [ 0.,  1.,  2.,  3.],\n",
       "         [ 8.,  9., 10., 11.],\n",
       "         [ 0.,  1.,  2.,  3.],\n",
       "         [12., 13., 14., 15.],\n",
       "         [ 4.,  5.,  6.,  7.],\n",
       "         [ 8.,  9., 10., 11.]]),\n",
       " tensor([[ 4.,  5.,  6.,  7.],\n",
       "         [ 0.,  1.,  2.,  3.],\n",
       "         [ 8.,  9., 10., 11.],\n",
       "         [ 0.,  1.,  2.,  3.],\n",
       "         [12., 13., 14., 15.],\n",
       "         [ 0.,  1.,  2.,  3.],\n",
       "         [ 8.,  9., 10., 11.],\n",
       "         [ 4.,  5.,  6.,  7.]]))"
      ]
     },
     "execution_count": 36,
     "metadata": {},
     "output_type": "execute_result"
    }
   ],
   "source": [
    "X[src], X[dest]"
   ]
  },
  {
   "cell_type": "code",
   "execution_count": 34,
   "metadata": {},
   "outputs": [
    {
     "data": {
      "text/plain": [
       "tensor([[24., 27., 30., 33.],\n",
       "        [ 8., 10., 12., 14.],\n",
       "        [ 4.,  6.,  8., 10.],\n",
       "        [ 0.,  1.,  2.,  3.]])"
      ]
     },
     "execution_count": 34,
     "metadata": {},
     "output_type": "execute_result"
    }
   ],
   "source": [
    "scatter_sum(X[src], dest, 0)"
   ]
  },
  {
   "cell_type": "code",
   "execution_count": null,
   "metadata": {},
   "outputs": [
    {
     "data": {
      "text/plain": [
       "tensor([[72., 78., 84., 90.],\n",
       "        [56., 60., 64., 68.],\n",
       "        [64., 68., 72., 76.],\n",
       "        [32., 34., 36., 38.]])"
      ]
     },
     "metadata": {},
     "output_type": "display_data"
    }
   ],
   "source": [
    "scatter_sum(X @ W_b, dest, 0)"
   ]
  },
  {
   "cell_type": "code",
   "execution_count": 12,
   "metadata": {},
   "outputs": [
    {
     "data": {
      "text/plain": [
       "tensor([[0, 1, 1, 2],\n",
       "        [1, 0, 2, 1]])"
      ]
     },
     "execution_count": 12,
     "metadata": {},
     "output_type": "execute_result"
    }
   ],
   "source": [
    "edge_index"
   ]
  },
  {
   "cell_type": "code",
   "execution_count": 15,
   "metadata": {},
   "outputs": [
    {
     "data": {
      "text/plain": [
       "tensor([[36, 39, 42, 45],\n",
       "        [28, 30, 32, 34],\n",
       "        [32, 34, 36, 38],\n",
       "        [16, 17, 18, 19]])"
      ]
     },
     "execution_count": 15,
     "metadata": {},
     "output_type": "execute_result"
    }
   ],
   "source": [
    "scatter(X, edge_index[1], 0, reduce=\"sum\")"
   ]
  },
  {
   "cell_type": "code",
   "execution_count": 7,
   "metadata": {},
   "outputs": [
    {
     "data": {
      "text/plain": [
       "(tensor([[ 0.0616],\n",
       "         [ 0.0762],\n",
       "         [-0.0362],\n",
       "         [ 0.2077]], grad_fn=<IndexBackward0>),\n",
       " tensor([[ 0.0616],\n",
       "         [ 0.0762],\n",
       "         [-0.0362],\n",
       "         [ 0.2077]], grad_fn=<AddmmBackward0>))"
      ]
     },
     "execution_count": 7,
     "metadata": {},
     "output_type": "execute_result"
    }
   ],
   "source": [
    "W = nn.Linear(4, 1)\n",
    "\n",
    "W(X)[rev_index], W(X[rev_index])"
   ]
  },
  {
   "cell_type": "code",
   "execution_count": 73,
   "metadata": {},
   "outputs": [
    {
     "data": {
      "text/plain": [
       "tensor([[1.0000e+00, 1.1028e-06, 1.6534e-07, 1.0000e+00],\n",
       "        [1.0000e+00, 1.0000e+00, 1.0000e+00, 1.0000e+00],\n",
       "        [1.0000e+00, 1.0000e+00, 1.0000e+00, 1.0000e+00],\n",
       "        [1.2543e-27, 1.0000e+00, 1.0000e+00, 1.5541e-10]])"
      ]
     },
     "execution_count": 73,
     "metadata": {},
     "output_type": "execute_result"
    }
   ],
   "source": [
    "scatter_softmax(X * 100, dest, 0, dim_size=len(X))"
   ]
  },
  {
   "cell_type": "code",
   "execution_count": 76,
   "metadata": {},
   "outputs": [
    {
     "data": {
      "text/plain": [
       "tensor([[0.5000],\n",
       "        [1.0000],\n",
       "        [1.0000],\n",
       "        [0.5000]])"
      ]
     },
     "execution_count": 76,
     "metadata": {},
     "output_type": "execute_result"
    }
   ],
   "source": [
    "1 / scatter(w.unsqueeze(1), dest, 0, reduce=\"sum\")[dest]"
   ]
  },
  {
   "cell_type": "code",
   "execution_count": 56,
   "metadata": {},
   "outputs": [
    {
     "name": "stdout",
     "output_type": "stream",
     "text": [
      "19.5 µs ± 643 ns per loop (mean ± std. dev. of 7 runs, 10,000 loops each)\n"
     ]
    }
   ],
   "source": [
    "%timeit scatter(w / scatter(w, dest, 0, reduce=\"sum\")[dest][:, None] * X, dest, 0, reduce=\"sum\")"
   ]
  },
  {
   "cell_type": "code",
   "execution_count": 9,
   "metadata": {},
   "outputs": [],
   "source": [
    "def permute_tensor(X: Tensor, num_perm: int):\n",
    "    b, V, d = X.shape\n",
    "\n",
    "    random_indices = torch.stack(\n",
    "        [\n",
    "            torch.stack(\n",
    "                [\n",
    "                    torch.stack([torch.Tensor(random.sample(range(d), d)) for _ in range(V)])\n",
    "                    for _ in range(b)\n",
    "                ]\n",
    "            )\n",
    "            for _ in range(num_perm)\n",
    "        ]\n",
    "    ).long()\n",
    "    tensor_repeated = X.reshape(1, *X.shape).repeat(num_perm, 1, 1, 1)\n",
    "\n",
    "    return torch.gather(tensor_repeated, 3, random_indices)\n",
    "\n",
    "\n",
    "class Permutation(nn.Module):\n",
    "    def __init__(self, dim: int = 1):\n",
    "        super().__init__()\n",
    "\n",
    "        if dim < 1:\n",
    "            raise ValueError(f\"arg 'dim' must be greater than! got: {dim}\")\n",
    "        \n",
    "        self.dim = dim\n",
    "\n",
    "    def forward(self, X: Tensor):\n",
    "        batch_perms = torch.stack(\n",
    "            [torch.randperm(X.shape[self.dim]) for _ in range(len(X))]\n",
    "        )\n",
    "        index = batch_perms.unsqueeze(X.ndim - self.dim).expand(X.shape)\n",
    "\n",
    "        return X.gather(self.dim, index)"
   ]
  },
  {
   "cell_type": "code",
   "execution_count": 158,
   "metadata": {},
   "outputs": [
    {
     "data": {
      "text/plain": [
       "torch.Size([2, 1, 4])"
      ]
     },
     "execution_count": 158,
     "metadata": {},
     "output_type": "execute_result"
    }
   ],
   "source": [
    "X.ndim - 1\n",
    "dim = 2\n",
    "perms.unsqueeze(X.ndim - dim).shape"
   ]
  },
  {
   "cell_type": "code",
   "execution_count": 152,
   "metadata": {},
   "outputs": [
    {
     "data": {
      "text/plain": [
       "tensor([[[ 0,  1,  2,  3],\n",
       "         [ 4,  5,  6,  7],\n",
       "         [ 8,  9, 10, 11]],\n",
       "\n",
       "        [[12, 13, 14, 15],\n",
       "         [16, 17, 18, 19],\n",
       "         [20, 21, 22, 23]]])"
      ]
     },
     "execution_count": 152,
     "metadata": {},
     "output_type": "execute_result"
    }
   ],
   "source": [
    "X = torch.arange(2*3*4).view(2, 3, 4)#.expand(2, 3, 4)\n",
    "X"
   ]
  },
  {
   "cell_type": "code",
   "execution_count": null,
   "metadata": {},
   "outputs": [],
   "source": [
    "perms.view_as()"
   ]
  },
  {
   "cell_type": "code",
   "execution_count": 164,
   "metadata": {},
   "outputs": [
    {
     "name": "stdout",
     "output_type": "stream",
     "text": [
      "torch.Size([2, 3, 4])\n",
      "torch.Size([2, 3])\n",
      "torch.Size([2, 3, 4])\n"
     ]
    }
   ],
   "source": [
    "X = torch.rand(2, 3, 4)\n",
    "dim = 1\n",
    "batch_perms = torch.stack(\n",
    "    [torch.randperm(X.shape[dim]) for _ in range(len(X))]\n",
    ")\n",
    "dest = batch_perms.unsqueeze(1).repeat_interleave(X.shape[1], dim=1).unsqueeze(-1)\n",
    "print(X.shape)\n",
    "print(batch_perms.shape)\n",
    "# perms: 2   x   4\n",
    "#     X: 2 x 3 x 4\n",
    "# perms = add_dummy_dims(perms, X.shape).expand(X.shape)\n",
    "# print(index.shape)\n",
    "print(batch_perms.unsqueeze(X.ndim - dim).expand(X.shape).shape)"
   ]
  },
  {
   "cell_type": "code",
   "execution_count": 145,
   "metadata": {},
   "outputs": [
    {
     "ename": "RuntimeError",
     "evalue": "The expanded size of the tensor (3) must match the existing size (2) at non-singleton dimension 1.  Target sizes: [2, 3, 4].  Tensor sizes: [2, 4]",
     "output_type": "error",
     "traceback": [
      "\u001b[0;31m---------------------------------------------------------------------------\u001b[0m",
      "\u001b[0;31mRuntimeError\u001b[0m                              Traceback (most recent call last)",
      "\u001b[1;32m/Users/davidgraff/projects/mol-gnn/scratch.ipynb Cell 6\u001b[0m line \u001b[0;36m1\n\u001b[0;32m----> <a href='vscode-notebook-cell:/Users/davidgraff/projects/mol-gnn/scratch.ipynb#X30sZmlsZQ%3D%3D?line=0'>1</a>\u001b[0m perms\u001b[39m.\u001b[39mexpand(X\u001b[39m.\u001b[39mshape)\n",
      "\u001b[0;31mRuntimeError\u001b[0m: The expanded size of the tensor (3) must match the existing size (2) at non-singleton dimension 1.  Target sizes: [2, 3, 4].  Tensor sizes: [2, 4]"
     ]
    }
   ],
   "source": [
    "batch_perms.expand(X.shape)"
   ]
  },
  {
   "cell_type": "code",
   "execution_count": 139,
   "metadata": {},
   "outputs": [
    {
     "data": {
      "text/plain": [
       "tensor([[[[  2],\n",
       "          [  6],\n",
       "          [ 10],\n",
       "          [ 18]],\n",
       "\n",
       "         [[ 22],\n",
       "          [ 26],\n",
       "          [ 30],\n",
       "          [ 38]],\n",
       "\n",
       "         [[ 42],\n",
       "          [ 46],\n",
       "          [ 50],\n",
       "          [ 58]]],\n",
       "\n",
       "\n",
       "        [[[ 61],\n",
       "          [ 68],\n",
       "          [ 72],\n",
       "          [ 75]],\n",
       "\n",
       "         [[ 81],\n",
       "          [ 88],\n",
       "          [ 92],\n",
       "          [ 95]],\n",
       "\n",
       "         [[101],\n",
       "          [108],\n",
       "          [112],\n",
       "          [115]]]])"
      ]
     },
     "execution_count": 139,
     "metadata": {},
     "output_type": "execute_result"
    }
   ],
   "source": [
    "X.gather(3, dest)"
   ]
  },
  {
   "cell_type": "code",
   "execution_count": 130,
   "metadata": {},
   "outputs": [
    {
     "data": {
      "text/plain": [
       "torch.Size([2, 3, 4, 5])"
      ]
     },
     "execution_count": 130,
     "metadata": {},
     "output_type": "execute_result"
    }
   ],
   "source": [
    "X.shape"
   ]
  },
  {
   "cell_type": "code",
   "execution_count": 44,
   "metadata": {},
   "outputs": [
    {
     "data": {
      "text/plain": [
       "tensor([[[ 4,  5,  6,  7],\n",
       "         [ 8,  9, 10, 11],\n",
       "         [ 0,  1,  2,  3]],\n",
       "\n",
       "        [[20, 21, 22, 23],\n",
       "         [16, 17, 18, 19],\n",
       "         [12, 13, 14, 15]]])"
      ]
     },
     "execution_count": 44,
     "metadata": {},
     "output_type": "execute_result"
    }
   ],
   "source": [
    "X[torch.arange(2)[:, None], batch_perms]"
   ]
  },
  {
   "cell_type": "code",
   "execution_count": 102,
   "metadata": {},
   "outputs": [
    {
     "data": {
      "text/plain": [
       "tensor([[[ 0,  1,  2,  3],\n",
       "         [ 4,  5,  6,  7],\n",
       "         [ 8,  9, 10, 11]],\n",
       "\n",
       "        [[12, 13, 14, 15],\n",
       "         [16, 17, 18, 19],\n",
       "         [20, 21, 22, 23]]])"
      ]
     },
     "execution_count": 102,
     "metadata": {},
     "output_type": "execute_result"
    }
   ],
   "source": [
    "X"
   ]
  },
  {
   "cell_type": "code",
   "execution_count": 73,
   "metadata": {},
   "outputs": [
    {
     "data": {
      "text/plain": [
       "tensor([[[5, 6],\n",
       "         [3, 4]],\n",
       "\n",
       "        [[1, 2],\n",
       "         [7, 8]]])"
      ]
     },
     "execution_count": 73,
     "metadata": {},
     "output_type": "execute_result"
    }
   ],
   "source": [
    "A = torch.tensor(\n",
    "    [[[1, 2],\n",
    "      [3, 4]],\n",
    "     [[5, 6],\n",
    "      [7, 8]]]\n",
    ")\n",
    "I = torch.tensor(\n",
    "    [[[1, 1],\n",
    "      [0, 0]],\n",
    "     [[0, 0],\n",
    "      [1, 1]]]\n",
    ")\n",
    "# I = torch.tensor([1, 0, 2]).view()\n",
    "A.gather(0, I)"
   ]
  },
  {
   "cell_type": "code",
   "execution_count": 70,
   "metadata": {},
   "outputs": [
    {
     "data": {
      "text/plain": [
       "tensor([[1, 1],\n",
       "        [0, 0],\n",
       "        [2, 2]])"
      ]
     },
     "execution_count": 70,
     "metadata": {},
     "output_type": "execute_result"
    }
   ],
   "source": [
    "torch.tensor([1, 0, 2]).view(-1, 1).repeat(1, 2)"
   ]
  },
  {
   "cell_type": "code",
   "execution_count": 106,
   "metadata": {},
   "outputs": [
    {
     "data": {
      "text/plain": [
       "torch.Size([2, 3])"
      ]
     },
     "execution_count": 106,
     "metadata": {},
     "output_type": "execute_result"
    }
   ],
   "source": [
    "batch_perms.shape"
   ]
  },
  {
   "cell_type": "code",
   "execution_count": 105,
   "metadata": {},
   "outputs": [
    {
     "data": {
      "text/plain": [
       "tensor([[[1, 1, 1, 1],\n",
       "         [2, 2, 2, 2],\n",
       "         [0, 0, 0, 0]],\n",
       "\n",
       "        [[2, 2, 2, 2],\n",
       "         [1, 1, 1, 1],\n",
       "         [0, 0, 0, 0]]])"
      ]
     },
     "execution_count": 105,
     "metadata": {},
     "output_type": "execute_result"
    }
   ],
   "source": [
    "batch_perms[..., None].repeat(1, 1, 4)"
   ]
  },
  {
   "cell_type": "code",
   "execution_count": 112,
   "metadata": {},
   "outputs": [
    {
     "data": {
      "text/plain": [
       "tensor([[[1, 1, 1, 1],\n",
       "         [2, 2, 2, 2],\n",
       "         [0, 0, 0, 0]],\n",
       "\n",
       "        [[2, 2, 2, 2],\n",
       "         [1, 1, 1, 1],\n",
       "         [0, 0, 0, 0]]])"
      ]
     },
     "execution_count": 112,
     "metadata": {},
     "output_type": "execute_result"
    }
   ],
   "source": [
    "batch_perms[..., None].repeat_interleave(X.shape[-1], dim=-1)"
   ]
  },
  {
   "cell_type": "code",
   "execution_count": null,
   "metadata": {},
   "outputs": [],
   "source": [
    "perms_final_shape = torch.tensor(\n",
    "    [[1],\n",
    "     [2], 0],\n",
    "     [2, 1, 0]]\n",
    ")"
   ]
  }
 ],
 "metadata": {
  "kernelspec": {
   "display_name": "mol_gnn",
   "language": "python",
   "name": "python3"
  },
  "language_info": {
   "codemirror_mode": {
    "name": "ipython",
    "version": 3
   },
   "file_extension": ".py",
   "mimetype": "text/x-python",
   "name": "python",
   "nbconvert_exporter": "python",
   "pygments_lexer": "ipython3",
   "version": "3.11.6"
  }
 },
 "nbformat": 4,
 "nbformat_minor": 2
}
