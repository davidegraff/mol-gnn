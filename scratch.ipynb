{
 "cells": [
  {
   "cell_type": "code",
   "execution_count": 1,
   "metadata": {},
   "outputs": [],
   "source": [
    "from collections import OrderedDict\n",
    "\n",
    "import torch\n",
    "import torch.nn as nn\n",
    "from tensordict import TensorDict\n",
    "from tensordict.nn import TensorDictModule, TensorDictSequential"
   ]
  },
  {
   "cell_type": "code",
   "execution_count": 2,
   "metadata": {},
   "outputs": [],
   "source": [
    "td = TensorDict(x=torch.randn(5, 3), z=torch.randn(5, 8), batch_size=[5])\n",
    "\n",
    "linear0 = TensorDictModule(\n",
    "    nn.Linear(3, 128), in_keys=[(\"input\", \"x\")], out_keys=[(\"hidden\", \"linear0\")]\n",
    ")\n",
    "relu0 = TensorDictModule(\n",
    "    torch.relu, in_keys=[(\"hidden\", \"linear0\")], out_keys=[(\"hidden\", \"relu0\")]\n",
    ")\n",
    "linear1 = TensorDictModule(\n",
    "    nn.Linear(128, 128), in_keys=[(\"hidden\", \"relu0\")], out_keys=[(\"hidden\", \"linear1\")]\n",
    ")\n",
    "relu1 = TensorDictModule(nn.ReLU(), in_keys=[(\"hidden\", \"linear1\")], out_keys=[(\"hidden\", \"relu1\")])\n",
    "linear2 = TensorDictModule(\n",
    "    nn.Linear(128, 3), in_keys=[(\"hidden\", \"relu1\")], out_keys=[(\"hidden\", \"linear2\")]\n",
    ")"
   ]
  },
  {
   "cell_type": "code",
   "execution_count": 3,
   "metadata": {},
   "outputs": [
    {
     "data": {
      "text/plain": [
       "TensorDictSequential(\n",
       "    module=ModuleList(\n",
       "      (0): TensorDictModule(\n",
       "          module=Linear(in_features=3, out_features=128, bias=True),\n",
       "          device=cpu,\n",
       "          in_keys=[('input', 'x')],\n",
       "          out_keys=[('hidden', 'linear0')])\n",
       "      (1): TensorDictModule(\n",
       "          module=<built-in method relu of type object at 0x130e20088>,\n",
       "          device=cpu,\n",
       "          in_keys=[('hidden', 'linear0')],\n",
       "          out_keys=[('hidden', 'relu0')])\n",
       "    ),\n",
       "    device=cpu,\n",
       "    in_keys=[('input', 'x')],\n",
       "    out_keys=[('hidden', 'linear0'), ('hidden', 'relu0')])"
      ]
     },
     "execution_count": 3,
     "metadata": {},
     "output_type": "execute_result"
    }
   ],
   "source": [
    "TensorDictSequential(linear0, relu0)"
   ]
  },
  {
   "cell_type": "code",
   "execution_count": 11,
   "metadata": {},
   "outputs": [
    {
     "ename": "TypeError",
     "evalue": "'str' object cannot be interpreted as an integer",
     "output_type": "error",
     "traceback": [
      "\u001b[0;31m---------------------------------------------------------------------------\u001b[0m",
      "\u001b[0;31mTypeError\u001b[0m                                 Traceback (most recent call last)",
      "Cell \u001b[0;32mIn[11], line 2\u001b[0m\n\u001b[1;32m      1\u001b[0m block \u001b[38;5;241m=\u001b[39m nn\u001b[38;5;241m.\u001b[39mSequential(OrderedDict(linear\u001b[38;5;241m=\u001b[39mnn\u001b[38;5;241m.\u001b[39mLinear(\u001b[38;5;241m10\u001b[39m, \u001b[38;5;241m10\u001b[39m)))\n\u001b[0;32m----> 2\u001b[0m \u001b[43mblock\u001b[49m\u001b[43m[\u001b[49m\u001b[38;5;124;43m'\u001b[39;49m\u001b[38;5;124;43mlinear\u001b[39;49m\u001b[38;5;124;43m'\u001b[39;49m\u001b[43m]\u001b[49m\n",
      "File \u001b[0;32m~/projects/mol-gnn/.venv/lib/python3.12/site-packages/torch/nn/modules/container.py:143\u001b[0m, in \u001b[0;36mSequential.__getitem__\u001b[0;34m(self, idx)\u001b[0m\n\u001b[1;32m    141\u001b[0m     \u001b[38;5;28;01mreturn\u001b[39;00m \u001b[38;5;28mself\u001b[39m\u001b[38;5;241m.\u001b[39m\u001b[38;5;18m__class__\u001b[39m(OrderedDict(\u001b[38;5;28mlist\u001b[39m(\u001b[38;5;28mself\u001b[39m\u001b[38;5;241m.\u001b[39m_modules\u001b[38;5;241m.\u001b[39mitems())[idx]))\n\u001b[1;32m    142\u001b[0m \u001b[38;5;28;01melse\u001b[39;00m:\n\u001b[0;32m--> 143\u001b[0m     \u001b[38;5;28;01mreturn\u001b[39;00m \u001b[38;5;28;43mself\u001b[39;49m\u001b[38;5;241;43m.\u001b[39;49m\u001b[43m_get_item_by_idx\u001b[49m\u001b[43m(\u001b[49m\u001b[38;5;28;43mself\u001b[39;49m\u001b[38;5;241;43m.\u001b[39;49m\u001b[43m_modules\u001b[49m\u001b[38;5;241;43m.\u001b[39;49m\u001b[43mvalues\u001b[49m\u001b[43m(\u001b[49m\u001b[43m)\u001b[49m\u001b[43m,\u001b[49m\u001b[43m \u001b[49m\u001b[43midx\u001b[49m\u001b[43m)\u001b[49m\n",
      "File \u001b[0;32m~/projects/mol-gnn/.venv/lib/python3.12/site-packages/torch/nn/modules/container.py:132\u001b[0m, in \u001b[0;36mSequential._get_item_by_idx\u001b[0;34m(self, iterator, idx)\u001b[0m\n\u001b[1;32m    130\u001b[0m \u001b[38;5;250m\u001b[39m\u001b[38;5;124;03m\"\"\"Get the idx-th item of the iterator.\"\"\"\u001b[39;00m\n\u001b[1;32m    131\u001b[0m size \u001b[38;5;241m=\u001b[39m \u001b[38;5;28mlen\u001b[39m(\u001b[38;5;28mself\u001b[39m)\n\u001b[0;32m--> 132\u001b[0m idx \u001b[38;5;241m=\u001b[39m \u001b[43moperator\u001b[49m\u001b[38;5;241;43m.\u001b[39;49m\u001b[43mindex\u001b[49m\u001b[43m(\u001b[49m\u001b[43midx\u001b[49m\u001b[43m)\u001b[49m\n\u001b[1;32m    133\u001b[0m \u001b[38;5;28;01mif\u001b[39;00m \u001b[38;5;129;01mnot\u001b[39;00m \u001b[38;5;241m-\u001b[39msize \u001b[38;5;241m<\u001b[39m\u001b[38;5;241m=\u001b[39m idx \u001b[38;5;241m<\u001b[39m size:\n\u001b[1;32m    134\u001b[0m     \u001b[38;5;28;01mraise\u001b[39;00m \u001b[38;5;167;01mIndexError\u001b[39;00m(\u001b[38;5;124mf\u001b[39m\u001b[38;5;124m\"\u001b[39m\u001b[38;5;124mindex \u001b[39m\u001b[38;5;132;01m{\u001b[39;00midx\u001b[38;5;132;01m}\u001b[39;00m\u001b[38;5;124m is out of range\u001b[39m\u001b[38;5;124m\"\u001b[39m)\n",
      "\u001b[0;31mTypeError\u001b[0m: 'str' object cannot be interpreted as an integer"
     ]
    }
   ],
   "source": [
    "block = nn.Sequential(OrderedDict(linear=nn.Linear(10, 10)))\n",
    "block['linear']"
   ]
  },
  {
   "cell_type": "code",
   "execution_count": null,
   "metadata": {},
   "outputs": [
    {
     "data": {
      "text/plain": [
       "TensorDict(\n",
       "    fields={\n",
       "        input.x: Tensor(shape=torch.Size([5, 3]), device=cpu, dtype=torch.float32, is_shared=False),\n",
       "        input.z: Tensor(shape=torch.Size([5, 8]), device=cpu, dtype=torch.float32, is_shared=False)},\n",
       "    batch_size=torch.Size([5]),\n",
       "    device=None,\n",
       "    is_shared=False)"
      ]
     },
     "execution_count": 34,
     "metadata": {},
     "output_type": "execute_result"
    }
   ],
   "source": [
    "for key in list(td.keys()):\n",
    "    td.rename_key_(key, f\"input.{key}\")\n",
    "td"
   ]
  },
  {
   "cell_type": "code",
   "execution_count": 36,
   "metadata": {},
   "outputs": [
    {
     "data": {
      "text/plain": [
       "TensorDict(\n",
       "    fields={\n",
       "        input.x: Tensor(shape=torch.Size([5, 3]), device=cpu, dtype=torch.float32, is_shared=False),\n",
       "        input.z: Tensor(shape=torch.Size([5, 8]), device=cpu, dtype=torch.float32, is_shared=False),\n",
       "        input: TensorDict(\n",
       "            fields={\n",
       "                z: Tensor(shape=torch.Size([5, 16]), device=cpu, dtype=torch.float32, is_shared=False)},\n",
       "            batch_size=torch.Size([5]),\n",
       "            device=None,\n",
       "            is_shared=False)},\n",
       "    batch_size=torch.Size([5]),\n",
       "    device=None,\n",
       "    is_shared=False)"
      ]
     },
     "execution_count": 36,
     "metadata": {},
     "output_type": "execute_result"
    }
   ],
   "source": [
    "td[(\"input\", \"z\")] = torch.randn(5, 16)\n",
    "td"
   ]
  },
  {
   "cell_type": "code",
   "execution_count": 43,
   "metadata": {},
   "outputs": [
    {
     "data": {
      "text/plain": [
       "[('z', torch.Size([5, 16]))]"
      ]
     },
     "execution_count": 43,
     "metadata": {},
     "output_type": "execute_result"
    }
   ],
   "source": [
    "[(key, val.shape) for key, val in td[\"input\"].items(True, True)]"
   ]
  },
  {
   "cell_type": "code",
   "execution_count": 14,
   "metadata": {},
   "outputs": [],
   "source": [
    "from torch.optim import Adam"
   ]
  },
  {
   "cell_type": "code",
   "execution_count": 20,
   "metadata": {},
   "outputs": [
    {
     "data": {
      "text/plain": [
       "Adam (\n",
       "Parameter Group 0\n",
       "    amsgrad: False\n",
       "    betas: (0.9, 0.999)\n",
       "    capturable: False\n",
       "    differentiable: False\n",
       "    eps: 1e-08\n",
       "    foreach: None\n",
       "    fused: None\n",
       "    lr: 0.001\n",
       "    maximize: False\n",
       "    weight_decay: 0\n",
       ")"
      ]
     },
     "execution_count": 20,
     "metadata": {},
     "output_type": "execute_result"
    }
   ],
   "source": [
    "W = nn.Linear(10, 10)\n",
    "\n",
    "opt = Adam(W.parameters())\n",
    "\n",
    "type(opt)(W.parameters())"
   ]
  },
  {
   "cell_type": "code",
   "execution_count": 9,
   "metadata": {},
   "outputs": [
    {
     "data": {
      "text/html": [
       "<div>\n",
       "<style scoped>\n",
       "    .dataframe tbody tr th:only-of-type {\n",
       "        vertical-align: middle;\n",
       "    }\n",
       "\n",
       "    .dataframe tbody tr th {\n",
       "        vertical-align: top;\n",
       "    }\n",
       "\n",
       "    .dataframe thead th {\n",
       "        text-align: right;\n",
       "    }\n",
       "</style>\n",
       "<table border=\"1\" class=\"dataframe\">\n",
       "  <thead>\n",
       "    <tr style=\"text-align: right;\">\n",
       "      <th></th>\n",
       "      <th>x</th>\n",
       "      <th>y</th>\n",
       "      <th>z</th>\n",
       "    </tr>\n",
       "  </thead>\n",
       "  <tbody>\n",
       "    <tr>\n",
       "      <th>0</th>\n",
       "      <td>0.296124</td>\n",
       "      <td>0.468575</td>\n",
       "      <td>0.366797</td>\n",
       "    </tr>\n",
       "    <tr>\n",
       "      <th>1</th>\n",
       "      <td>0.663179</td>\n",
       "      <td>0.320301</td>\n",
       "      <td>0.994041</td>\n",
       "    </tr>\n",
       "    <tr>\n",
       "      <th>2</th>\n",
       "      <td>0.782132</td>\n",
       "      <td>0.870233</td>\n",
       "      <td>0.104931</td>\n",
       "    </tr>\n",
       "    <tr>\n",
       "      <th>3</th>\n",
       "      <td>0.843557</td>\n",
       "      <td>0.683359</td>\n",
       "      <td>0.988978</td>\n",
       "    </tr>\n",
       "    <tr>\n",
       "      <th>4</th>\n",
       "      <td>0.161203</td>\n",
       "      <td>0.232490</td>\n",
       "      <td>0.329125</td>\n",
       "    </tr>\n",
       "    <tr>\n",
       "      <th>...</th>\n",
       "      <td>...</td>\n",
       "      <td>...</td>\n",
       "      <td>...</td>\n",
       "    </tr>\n",
       "    <tr>\n",
       "      <th>1019</th>\n",
       "      <td>0.716826</td>\n",
       "      <td>0.380671</td>\n",
       "      <td>0.951075</td>\n",
       "    </tr>\n",
       "    <tr>\n",
       "      <th>1020</th>\n",
       "      <td>0.571119</td>\n",
       "      <td>0.096809</td>\n",
       "      <td>0.016450</td>\n",
       "    </tr>\n",
       "    <tr>\n",
       "      <th>1021</th>\n",
       "      <td>0.254935</td>\n",
       "      <td>0.618807</td>\n",
       "      <td>0.610960</td>\n",
       "    </tr>\n",
       "    <tr>\n",
       "      <th>1022</th>\n",
       "      <td>0.648206</td>\n",
       "      <td>0.728535</td>\n",
       "      <td>0.789112</td>\n",
       "    </tr>\n",
       "    <tr>\n",
       "      <th>1023</th>\n",
       "      <td>0.511790</td>\n",
       "      <td>0.036530</td>\n",
       "      <td>0.385713</td>\n",
       "    </tr>\n",
       "  </tbody>\n",
       "</table>\n",
       "<p>1024 rows × 3 columns</p>\n",
       "</div>"
      ],
      "text/plain": [
       "             x         y         z\n",
       "0     0.296124  0.468575  0.366797\n",
       "1     0.663179  0.320301  0.994041\n",
       "2     0.782132  0.870233  0.104931\n",
       "3     0.843557  0.683359  0.988978\n",
       "4     0.161203  0.232490  0.329125\n",
       "...        ...       ...       ...\n",
       "1019  0.716826  0.380671  0.951075\n",
       "1020  0.571119  0.096809  0.016450\n",
       "1021  0.254935  0.618807  0.610960\n",
       "1022  0.648206  0.728535  0.789112\n",
       "1023  0.511790  0.036530  0.385713\n",
       "\n",
       "[1024 rows x 3 columns]"
      ]
     },
     "execution_count": 9,
     "metadata": {},
     "output_type": "execute_result"
    }
   ],
   "source": [
    "import numpy as np\n",
    "import pandas as pd\n",
    "\n",
    "N = 1024\n",
    "df = pd.DataFrame(dict(x=np.random.rand(N), y=np.random.rand(N), z=np.random.rand(N)))\n",
    "\n",
    "df"
   ]
  },
  {
   "cell_type": "code",
   "execution_count": 35,
   "metadata": {},
   "outputs": [
    {
     "data": {
      "text/html": [
       "<div>\n",
       "<style scoped>\n",
       "    .dataframe tbody tr th:only-of-type {\n",
       "        vertical-align: middle;\n",
       "    }\n",
       "\n",
       "    .dataframe tbody tr th {\n",
       "        vertical-align: top;\n",
       "    }\n",
       "\n",
       "    .dataframe thead th {\n",
       "        text-align: right;\n",
       "    }\n",
       "</style>\n",
       "<table border=\"1\" class=\"dataframe\">\n",
       "  <thead>\n",
       "    <tr style=\"text-align: right;\">\n",
       "      <th></th>\n",
       "      <th>x</th>\n",
       "      <th>y</th>\n",
       "      <th>z</th>\n",
       "    </tr>\n",
       "  </thead>\n",
       "  <tbody>\n",
       "    <tr>\n",
       "      <th>0</th>\n",
       "      <td>0.296124</td>\n",
       "      <td>0.468575</td>\n",
       "      <td>0.366797</td>\n",
       "    </tr>\n",
       "    <tr>\n",
       "      <th>1</th>\n",
       "      <td>0.663179</td>\n",
       "      <td>0.320301</td>\n",
       "      <td>0.994041</td>\n",
       "    </tr>\n",
       "    <tr>\n",
       "      <th>2</th>\n",
       "      <td>0.782132</td>\n",
       "      <td>0.870233</td>\n",
       "      <td>0.104931</td>\n",
       "    </tr>\n",
       "    <tr>\n",
       "      <th>3</th>\n",
       "      <td>0.843557</td>\n",
       "      <td>0.683359</td>\n",
       "      <td>0.988978</td>\n",
       "    </tr>\n",
       "    <tr>\n",
       "      <th>4</th>\n",
       "      <td>0.161203</td>\n",
       "      <td>0.232490</td>\n",
       "      <td>0.329125</td>\n",
       "    </tr>\n",
       "    <tr>\n",
       "      <th>...</th>\n",
       "      <td>...</td>\n",
       "      <td>...</td>\n",
       "      <td>...</td>\n",
       "    </tr>\n",
       "    <tr>\n",
       "      <th>1019</th>\n",
       "      <td>0.716826</td>\n",
       "      <td>0.380671</td>\n",
       "      <td>0.951075</td>\n",
       "    </tr>\n",
       "    <tr>\n",
       "      <th>1020</th>\n",
       "      <td>0.571119</td>\n",
       "      <td>0.096809</td>\n",
       "      <td>0.016450</td>\n",
       "    </tr>\n",
       "    <tr>\n",
       "      <th>1021</th>\n",
       "      <td>0.254935</td>\n",
       "      <td>0.618807</td>\n",
       "      <td>0.610960</td>\n",
       "    </tr>\n",
       "    <tr>\n",
       "      <th>1022</th>\n",
       "      <td>0.648206</td>\n",
       "      <td>0.728535</td>\n",
       "      <td>0.789112</td>\n",
       "    </tr>\n",
       "    <tr>\n",
       "      <th>1023</th>\n",
       "      <td>0.511790</td>\n",
       "      <td>0.036530</td>\n",
       "      <td>0.385713</td>\n",
       "    </tr>\n",
       "  </tbody>\n",
       "</table>\n",
       "<p>1024 rows × 3 columns</p>\n",
       "</div>"
      ],
      "text/plain": [
       "             x         y         z\n",
       "0     0.296124  0.468575  0.366797\n",
       "1     0.663179  0.320301  0.994041\n",
       "2     0.782132  0.870233  0.104931\n",
       "3     0.843557  0.683359  0.988978\n",
       "4     0.161203  0.232490  0.329125\n",
       "...        ...       ...       ...\n",
       "1019  0.716826  0.380671  0.951075\n",
       "1020  0.571119  0.096809  0.016450\n",
       "1021  0.254935  0.618807  0.610960\n",
       "1022  0.648206  0.728535  0.789112\n",
       "1023  0.511790  0.036530  0.385713\n",
       "\n",
       "[1024 rows x 3 columns]"
      ]
     },
     "execution_count": 35,
     "metadata": {},
     "output_type": "execute_result"
    }
   ],
   "source": [
    "df[slice(None)]"
   ]
  },
  {
   "cell_type": "code",
   "execution_count": 24,
   "metadata": {},
   "outputs": [
    {
     "name": "stdout",
     "output_type": "stream",
     "text": [
      "590 μs ± 3.22 μs per loop (mean ± std. dev. of 7 runs, 1,000 loops each)\n"
     ]
    }
   ],
   "source": [
    "index = np.random.randint(N, size=(128,))\n",
    "\n",
    "# %timeit [df.iloc[i] for i in index]"
   ]
  },
  {
   "cell_type": "code",
   "execution_count": null,
   "metadata": {},
   "outputs": [
    {
     "name": "stdout",
     "output_type": "stream",
     "text": [
      "107 μs ± 1.1 μs per loop (mean ± std. dev. of 7 runs, 10,000 loops each)\n",
      "685 ns ± 7.11 ns per loop (mean ± std. dev. of 7 runs, 1,000,000 loops each)\n"
     ]
    }
   ],
   "source": [
    "import torch\n",
    "\n",
    "A = np.random.randn(128, 4)\n",
    "\n",
    "%timeit torch.stack([torch.as_tensor(a) for a in A])\n",
    "%timeit torch.as_tensor(A)"
   ]
  },
  {
   "cell_type": "code",
   "execution_count": 29,
   "metadata": {},
   "outputs": [
    {
     "name": "stdout",
     "output_type": "stream",
     "text": [
      "76.9 μs ± 1.27 μs per loop (mean ± std. dev. of 7 runs, 10,000 loops each)\n"
     ]
    }
   ],
   "source": [
    "%timeit torch.as_tensor(list(A))"
   ]
  },
  {
   "cell_type": "code",
   "execution_count": 37,
   "metadata": {},
   "outputs": [],
   "source": [
    "_ = \"\"\"\n",
    "[\n",
    "    {\"G\": Graph(...), \"fp\": [1, 0, ..., 1, 0, 0], \"targets\": [0.5, 2.0]}\n",
    "    {\"G\": Graph(...), \"fp\": [1, 0, ..., 1, 0, 0], \"targets\": [0.7, 2.5]}\n",
    "    {\"G\": Graph(...), \"fp\": [1, 0, ..., 1, 0, 0], \"targets\": [0.2, 3.0]}\n",
    "]\n",
    "\n",
    "< OR >\n",
    "\n",
    "[\n",
    "    {\"G\": Graph(...), \"fp\": [1, 0, ..., 1, 0, 0], \"pki_a\": 2.0, \"pki_b: 3.0}\n",
    "    {\"G\": Graph(...), \"fp\": [1, 0, ..., 1, 0, 0], \"pki_a\": 2.0, \"pki_b: 3.0}\n",
    "    {\"G\": Graph(...), \"fp\": [1, 0, ..., 1, 0, 0], \"pki_a\": 2.0, \"pki_b: 3.0}\n",
    "]\n",
    "\n",
    "-->\n",
    "\n",
    "TensorDict{\n",
    "    \"input.G\": BatchedGraph(...),\n",
    "    \"input.fp\": Tensor(...),\n",
    "    \"input.targets\": Tensor(...),\n",
    "}\n",
    "\"\"\""
   ]
  },
  {
   "cell_type": "code",
   "execution_count": null,
   "metadata": {},
   "outputs": [
    {
     "ename": "AttributeError",
     "evalue": "'DataFrame' object has no attribute 'tolist'",
     "output_type": "error",
     "traceback": [
      "\u001b[0;31m---------------------------------------------------------------------------\u001b[0m",
      "\u001b[0;31mAttributeError\u001b[0m                            Traceback (most recent call last)",
      "\u001b[0;32m/var/folders/_k/7mk9m50x3fz6xmf2pvfx7w180000gn/T/ipykernel_16142/1539138235.py\u001b[0m in \u001b[0;36m?\u001b[0;34m()\u001b[0m\n\u001b[0;32m----> 1\u001b[0;31m \u001b[0mdf\u001b[0m\u001b[0;34m[\u001b[0m\u001b[0;34m\"targets\"\u001b[0m\u001b[0;34m]\u001b[0m \u001b[0;34m=\u001b[0m \u001b[0mdf\u001b[0m\u001b[0;34m[\u001b[0m\u001b[0;34m[\u001b[0m\u001b[0;34m'x'\u001b[0m\u001b[0;34m,\u001b[0m \u001b[0;34m'y'\u001b[0m\u001b[0;34m]\u001b[0m\u001b[0;34m]\u001b[0m\u001b[0;34m.\u001b[0m\u001b[0mtolist\u001b[0m\u001b[0;34m(\u001b[0m\u001b[0;34m)\u001b[0m\u001b[0;34m\u001b[0m\u001b[0;34m\u001b[0m\u001b[0m\n\u001b[0m\u001b[1;32m      2\u001b[0m \u001b[0mdf\u001b[0m\u001b[0;34m\u001b[0m\u001b[0;34m\u001b[0m\u001b[0m\n",
      "\u001b[0;32m~/projects/mol-gnn/.venv/lib/python3.12/site-packages/pandas/core/generic.py\u001b[0m in \u001b[0;36m?\u001b[0;34m(self, name)\u001b[0m\n\u001b[1;32m   6295\u001b[0m             \u001b[0;32mand\u001b[0m \u001b[0mname\u001b[0m \u001b[0;32mnot\u001b[0m \u001b[0;32min\u001b[0m \u001b[0mself\u001b[0m\u001b[0;34m.\u001b[0m\u001b[0m_accessors\u001b[0m\u001b[0;34m\u001b[0m\u001b[0;34m\u001b[0m\u001b[0m\n\u001b[1;32m   6296\u001b[0m             \u001b[0;32mand\u001b[0m \u001b[0mself\u001b[0m\u001b[0;34m.\u001b[0m\u001b[0m_info_axis\u001b[0m\u001b[0;34m.\u001b[0m\u001b[0m_can_hold_identifiers_and_holds_name\u001b[0m\u001b[0;34m(\u001b[0m\u001b[0mname\u001b[0m\u001b[0;34m)\u001b[0m\u001b[0;34m\u001b[0m\u001b[0;34m\u001b[0m\u001b[0m\n\u001b[1;32m   6297\u001b[0m         \u001b[0;34m)\u001b[0m\u001b[0;34m:\u001b[0m\u001b[0;34m\u001b[0m\u001b[0;34m\u001b[0m\u001b[0m\n\u001b[1;32m   6298\u001b[0m             \u001b[0;32mreturn\u001b[0m \u001b[0mself\u001b[0m\u001b[0;34m[\u001b[0m\u001b[0mname\u001b[0m\u001b[0;34m]\u001b[0m\u001b[0;34m\u001b[0m\u001b[0;34m\u001b[0m\u001b[0m\n\u001b[0;32m-> 6299\u001b[0;31m         \u001b[0;32mreturn\u001b[0m \u001b[0mobject\u001b[0m\u001b[0;34m.\u001b[0m\u001b[0m__getattribute__\u001b[0m\u001b[0;34m(\u001b[0m\u001b[0mself\u001b[0m\u001b[0;34m,\u001b[0m \u001b[0mname\u001b[0m\u001b[0;34m)\u001b[0m\u001b[0;34m\u001b[0m\u001b[0;34m\u001b[0m\u001b[0m\n\u001b[0m",
      "\u001b[0;31mAttributeError\u001b[0m: 'DataFrame' object has no attribute 'tolist'"
     ]
    }
   ],
   "source": [
    "# df[\"targets\"] = df[['x', 'y']].tolist()\n",
    "df"
   ]
  },
  {
   "cell_type": "code",
   "execution_count": 46,
   "metadata": {},
   "outputs": [
    {
     "data": {
      "text/html": [
       "<div>\n",
       "<style scoped>\n",
       "    .dataframe tbody tr th:only-of-type {\n",
       "        vertical-align: middle;\n",
       "    }\n",
       "\n",
       "    .dataframe tbody tr th {\n",
       "        vertical-align: top;\n",
       "    }\n",
       "\n",
       "    .dataframe thead th {\n",
       "        text-align: right;\n",
       "    }\n",
       "</style>\n",
       "<table border=\"1\" class=\"dataframe\">\n",
       "  <thead>\n",
       "    <tr style=\"text-align: right;\">\n",
       "      <th></th>\n",
       "      <th>x</th>\n",
       "      <th>y</th>\n",
       "      <th>z</th>\n",
       "      <th>targets</th>\n",
       "    </tr>\n",
       "  </thead>\n",
       "  <tbody>\n",
       "    <tr>\n",
       "      <th>0</th>\n",
       "      <td>0.296124</td>\n",
       "      <td>0.468575</td>\n",
       "      <td>0.366797</td>\n",
       "      <td>[0.29612381919886, 0.46857461860676564]</td>\n",
       "    </tr>\n",
       "    <tr>\n",
       "      <th>1</th>\n",
       "      <td>0.663179</td>\n",
       "      <td>0.320301</td>\n",
       "      <td>0.994041</td>\n",
       "      <td>[0.6631789198415855, 0.32030146296918693]</td>\n",
       "    </tr>\n",
       "    <tr>\n",
       "      <th>2</th>\n",
       "      <td>0.782132</td>\n",
       "      <td>0.870233</td>\n",
       "      <td>0.104931</td>\n",
       "      <td>[0.7821318127290143, 0.8702330047875827]</td>\n",
       "    </tr>\n",
       "    <tr>\n",
       "      <th>3</th>\n",
       "      <td>0.843557</td>\n",
       "      <td>0.683359</td>\n",
       "      <td>0.988978</td>\n",
       "      <td>[0.843556561935685, 0.6833593333816355]</td>\n",
       "    </tr>\n",
       "    <tr>\n",
       "      <th>4</th>\n",
       "      <td>0.161203</td>\n",
       "      <td>0.232490</td>\n",
       "      <td>0.329125</td>\n",
       "      <td>[0.1612031653035363, 0.23248993697287146]</td>\n",
       "    </tr>\n",
       "    <tr>\n",
       "      <th>...</th>\n",
       "      <td>...</td>\n",
       "      <td>...</td>\n",
       "      <td>...</td>\n",
       "      <td>...</td>\n",
       "    </tr>\n",
       "    <tr>\n",
       "      <th>1019</th>\n",
       "      <td>0.716826</td>\n",
       "      <td>0.380671</td>\n",
       "      <td>0.951075</td>\n",
       "      <td>[0.7168261436777018, 0.3806711249861484]</td>\n",
       "    </tr>\n",
       "    <tr>\n",
       "      <th>1020</th>\n",
       "      <td>0.571119</td>\n",
       "      <td>0.096809</td>\n",
       "      <td>0.016450</td>\n",
       "      <td>[0.5711189832137389, 0.09680853516491938]</td>\n",
       "    </tr>\n",
       "    <tr>\n",
       "      <th>1021</th>\n",
       "      <td>0.254935</td>\n",
       "      <td>0.618807</td>\n",
       "      <td>0.610960</td>\n",
       "      <td>[0.25493538220931045, 0.6188066910290669]</td>\n",
       "    </tr>\n",
       "    <tr>\n",
       "      <th>1022</th>\n",
       "      <td>0.648206</td>\n",
       "      <td>0.728535</td>\n",
       "      <td>0.789112</td>\n",
       "      <td>[0.6482056347418593, 0.7285350929461654]</td>\n",
       "    </tr>\n",
       "    <tr>\n",
       "      <th>1023</th>\n",
       "      <td>0.511790</td>\n",
       "      <td>0.036530</td>\n",
       "      <td>0.385713</td>\n",
       "      <td>[0.5117903872488944, 0.03653009855161282]</td>\n",
       "    </tr>\n",
       "  </tbody>\n",
       "</table>\n",
       "<p>1024 rows × 4 columns</p>\n",
       "</div>"
      ],
      "text/plain": [
       "             x         y         z                                    targets\n",
       "0     0.296124  0.468575  0.366797    [0.29612381919886, 0.46857461860676564]\n",
       "1     0.663179  0.320301  0.994041  [0.6631789198415855, 0.32030146296918693]\n",
       "2     0.782132  0.870233  0.104931   [0.7821318127290143, 0.8702330047875827]\n",
       "3     0.843557  0.683359  0.988978    [0.843556561935685, 0.6833593333816355]\n",
       "4     0.161203  0.232490  0.329125  [0.1612031653035363, 0.23248993697287146]\n",
       "...        ...       ...       ...                                        ...\n",
       "1019  0.716826  0.380671  0.951075   [0.7168261436777018, 0.3806711249861484]\n",
       "1020  0.571119  0.096809  0.016450  [0.5711189832137389, 0.09680853516491938]\n",
       "1021  0.254935  0.618807  0.610960  [0.25493538220931045, 0.6188066910290669]\n",
       "1022  0.648206  0.728535  0.789112   [0.6482056347418593, 0.7285350929461654]\n",
       "1023  0.511790  0.036530  0.385713  [0.5117903872488944, 0.03653009855161282]\n",
       "\n",
       "[1024 rows x 4 columns]"
      ]
     },
     "execution_count": 46,
     "metadata": {},
     "output_type": "execute_result"
    }
   ],
   "source": [
    "df['targets'] = df[['x', 'y']].values.tolist()\n",
    "df"
   ]
  },
  {
   "cell_type": "code",
   "execution_count": 48,
   "metadata": {},
   "outputs": [
    {
     "data": {
      "text/plain": [
       "[0.29612381919886, 0.46857461860676564]"
      ]
     },
     "execution_count": 48,
     "metadata": {},
     "output_type": "execute_result"
    }
   ],
   "source": [
    "df.iloc[0].targets"
   ]
  },
  {
   "cell_type": "code",
   "execution_count": null,
   "metadata": {},
   "outputs": [],
   "source": []
  }
 ],
 "metadata": {
  "kernelspec": {
   "display_name": ".venv",
   "language": "python",
   "name": "python3"
  },
  "language_info": {
   "codemirror_mode": {
    "name": "ipython",
    "version": 3
   },
   "file_extension": ".py",
   "mimetype": "text/x-python",
   "name": "python",
   "nbconvert_exporter": "python",
   "pygments_lexer": "ipython3",
   "version": "3.12.7"
  }
 },
 "nbformat": 4,
 "nbformat_minor": 2
}
