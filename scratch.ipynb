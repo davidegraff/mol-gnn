{
 "cells": [
  {
   "cell_type": "code",
   "execution_count": 3,
   "metadata": {},
   "outputs": [],
   "source": [
    "import torch\n",
    "from torch import nn\n",
    "from tensordict import TensorDict\n",
    "from tensordict.nn import TensorDictModule, TensorDictSequential"
   ]
  },
  {
   "cell_type": "code",
   "execution_count": 32,
   "metadata": {},
   "outputs": [],
   "source": [
    "td = TensorDict(x=torch.randn(5, 3), z=torch.randn(5, 8), batch_size=[5])\n",
    "\n",
    "linear0 = TensorDictModule(\n",
    "    nn.Linear(3, 128), in_keys=[(\"input\", \"x\")], out_keys=[(\"hidden\", \"linear0\")]\n",
    ")\n",
    "relu0 = TensorDictModule(\n",
    "    torch.relu, in_keys=[(\"hidden\", \"linear0\")], out_keys=[(\"hidden\", \"relu0\")]\n",
    ")\n",
    "linear1 = TensorDictModule(\n",
    "    nn.Linear(128, 128), in_keys=[(\"hidden\", \"relu0\")], out_keys=[(\"hidden\", \"linear1\")]\n",
    ")\n",
    "relu1 = TensorDictModule(nn.ReLU(), in_keys=[(\"hidden\", \"linear1\")], out_keys=[(\"hidden\", \"relu1\")])\n",
    "linear2 = TensorDictModule(\n",
    "    nn.Linear(128, 3), in_keys=[(\"hidden\", \"relu1\")], out_keys=[(\"hidden\", \"linear2\")]\n",
    ")\n",
    "\n",
    "block0 = TensorDictSequential(linear0, relu0)\n",
    "block1 = TensorDictSequential(linear1, relu1, linear2)\n",
    "\n",
    "residual = TensorDictModule(lambda x, y: x + y, in_keys=[\"x\", \"linear2\"], out_keys=[\"y\"])\n",
    "\n",
    "block = TensorDictSequential(block0, block1, residual)"
   ]
  },
  {
   "cell_type": "code",
   "execution_count": 33,
   "metadata": {},
   "outputs": [
    {
     "data": {
      "text/plain": [
       "TensorDict(\n",
       "    fields={\n",
       "        x: Tensor(shape=torch.Size([5, 3]), device=cpu, dtype=torch.float32, is_shared=False),\n",
       "        z: Tensor(shape=torch.Size([5, 8]), device=cpu, dtype=torch.float32, is_shared=False)},\n",
       "    batch_size=torch.Size([5]),\n",
       "    device=None,\n",
       "    is_shared=False)"
      ]
     },
     "execution_count": 33,
     "metadata": {},
     "output_type": "execute_result"
    }
   ],
   "source": [
    "td"
   ]
  },
  {
   "cell_type": "code",
   "execution_count": null,
   "metadata": {},
   "outputs": [
    {
     "data": {
      "text/plain": [
       "TensorDict(\n",
       "    fields={\n",
       "        input.x: Tensor(shape=torch.Size([5, 3]), device=cpu, dtype=torch.float32, is_shared=False),\n",
       "        input.z: Tensor(shape=torch.Size([5, 8]), device=cpu, dtype=torch.float32, is_shared=False)},\n",
       "    batch_size=torch.Size([5]),\n",
       "    device=None,\n",
       "    is_shared=False)"
      ]
     },
     "execution_count": 34,
     "metadata": {},
     "output_type": "execute_result"
    }
   ],
   "source": [
    "for key in list(td.keys()):\n",
    "    td.rename_key_(key, f\"input.{key}\")\n",
    "td"
   ]
  },
  {
   "cell_type": "code",
   "execution_count": 36,
   "metadata": {},
   "outputs": [
    {
     "data": {
      "text/plain": [
       "TensorDict(\n",
       "    fields={\n",
       "        input.x: Tensor(shape=torch.Size([5, 3]), device=cpu, dtype=torch.float32, is_shared=False),\n",
       "        input.z: Tensor(shape=torch.Size([5, 8]), device=cpu, dtype=torch.float32, is_shared=False),\n",
       "        input: TensorDict(\n",
       "            fields={\n",
       "                z: Tensor(shape=torch.Size([5, 16]), device=cpu, dtype=torch.float32, is_shared=False)},\n",
       "            batch_size=torch.Size([5]),\n",
       "            device=None,\n",
       "            is_shared=False)},\n",
       "    batch_size=torch.Size([5]),\n",
       "    device=None,\n",
       "    is_shared=False)"
      ]
     },
     "execution_count": 36,
     "metadata": {},
     "output_type": "execute_result"
    }
   ],
   "source": [
    "td[(\"input\", \"z\")] = torch.randn(5, 16)\n",
    "td"
   ]
  },
  {
   "cell_type": "code",
   "execution_count": 43,
   "metadata": {},
   "outputs": [
    {
     "data": {
      "text/plain": [
       "[('z', torch.Size([5, 16]))]"
      ]
     },
     "execution_count": 43,
     "metadata": {},
     "output_type": "execute_result"
    }
   ],
   "source": [
    "[(key, val.shape) for key, val in td[\"input\"].items(True, True)]"
   ]
  },
  {
   "cell_type": "code",
   "execution_count": null,
   "metadata": {},
   "outputs": [],
   "source": [
    "td.items"
   ]
  }
 ],
 "metadata": {
  "kernelspec": {
   "display_name": ".venv",
   "language": "python",
   "name": "python3"
  },
  "language_info": {
   "codemirror_mode": {
    "name": "ipython",
    "version": 3
   },
   "file_extension": ".py",
   "mimetype": "text/x-python",
   "name": "python",
   "nbconvert_exporter": "python",
   "pygments_lexer": "ipython3",
   "version": "3.12.7"
  }
 },
 "nbformat": 4,
 "nbformat_minor": 2
}
